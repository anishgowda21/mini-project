{
  "cells": [
    {
      "cell_type": "code",
      "execution_count": 1,
      "metadata": {},
      "outputs": [],
      "source": [
        "import numpy  as np\n",
        "import pandas as pd\n",
        "import math\n",
        "import random\n",
        "import os\n",
        "from scipy.special import gamma\n",
        "import matplotlib.pyplot as plt\n",
        "from numpy import array, sin, cos, exp, sqrt, pi,abs"
      ]
    },
    {
      "cell_type": "code",
      "execution_count": 2,
      "metadata": {},
      "outputs": [],
      "source": [
        "#Test functions\n",
        "def easom(variables_values = [0, 0]):\n",
        "        return -math.cos(variables_values[0])*math.cos(variables_values[1])*math.exp(-(variables_values[0] - math.pi)**2 - (variables_values[1] - math.pi)**2)\n",
        "\n",
        "def beale(variables_values=[0,0]):\n",
        "        tmp1 = np.power(1.5 - variables_values[0] + variables_values[0] * variables_values[1],2)\n",
        "        tmp2 = np.power(2.25 - variables_values[0] + variables_values[0] * np.power(variables_values[1],2),2)\n",
        "        tmp3 = np.power(2.625 - variables_values[0] + variables_values[0] * np.power(variables_values[1],3),2)\n",
        "        return tmp1+tmp2+tmp3\n",
        "\n",
        "def levy13(variables_values = [0, 0]):\n",
        "        temp1 = (sin(3 * pi * variables_values[0]) ** 2)\n",
        "        temp2 = (variables_values[0] - 1) ** 2 * (1 + (sin(3 * pi * variables_values[1])) ** 2)\n",
        "        temp3 = (variables_values[1] - 1) ** 2 * (1 + (sin(2 * pi * variables_values[1])) ** 2)\n",
        "\n",
        "        return temp1 + temp2 + temp3\n",
        "\n",
        "def target_function(params=[]):\n",
        "    return"
      ]
    },
    {
      "cell_type": "markdown",
      "metadata": {},
      "source": [
        "## Whale Algorithm\n"
      ]
    },
    {
      "cell_type": "code",
      "execution_count": 3,
      "metadata": {},
      "outputs": [],
      "source": [
        "def whale_initial_position(hunting_party = 5, min_values = [-5,-5], max_values = [5,5], target_function = target_function):\n",
        "    positions = np.zeros((hunting_party,len(min_values)+1))\n",
        "    for i in range(hunting_party):\n",
        "        for j in range(len(min_values)):\n",
        "            positions[i][j] = random.uniform(min_values[j],max_values[j])\n",
        "        positions[i][len(min_values)] = target_function(positions[i][:len(min_values)])\n",
        "    return positions\n",
        "\n",
        "\n",
        "\n",
        "def whale_leader_position(dimension = 2, target_function = target_function):\n",
        "    leader = np.zeros((1, dimension+1))\n",
        "    for j in range(dimension):\n",
        "        leader[0,j] = 0.0\n",
        "    leader[0,-1] = target_function(leader[0,:dimension])\n",
        "    return leader\n",
        "\n",
        "\n",
        "def whale_update_leader(position, leader):\n",
        "    for i in range(position.shape[0]):\n",
        "        if (leader[0,-1] > position[i,-1]):\n",
        "            for j in range(position.shape[1]):\n",
        "                leader[0,j] = position[i,j]\n",
        "    return leader\n",
        "\n",
        "\n",
        "def whale_update_position(position, leader, a_linear_component=2,b_linear_component=1,spiral_param=1,min_values=[-5,-5],max_values=[5,5],target_function=target_function):\n",
        "    for i in range(position.shape[0]):\n",
        "        r1_leader = int.from_bytes(os.urandom(8), byteorder = \"big\") / ((1 << 64) - 1) # uniform random number between 0 and 1\n",
        "        r2_leader = int.from_bytes(os.urandom(8), byteorder = \"big\") / ((1 << 64) - 1) # uniform random number between 0 and 1\n",
        "        a_leader = 2*a_linear_component*r1_leader - a_linear_component # uniform random number between -1 and 1\n",
        "        c_leader = 2*r2_leader \n",
        "        p = int.from_bytes(os.urandom(8), byteorder = \"big\") / ((1 << 64) - 1)\n",
        "        for j in range(len(min_values)):\n",
        "            if(p < 0.5):\n",
        "                if(abs(a_leader) >= 1):\n",
        "                    rand = int.from_bytes(os.urandom(8), byteorder = \"big\") / ((1 << 64) - 1)\n",
        "                    rand_leader_index = math.floor(position.shape[0]*rand)\n",
        "                    x_rand = position[rand_leader_index,:]\n",
        "                    distance_x_rand   = abs(c_leader*x_rand[j] - position[i,j])\n",
        "                    position[i][j] = np.clip( x_rand[j] - a_leader*distance_x_rand, min_values[j], max_values[j])\n",
        "                elif(abs(a_leader) < 1):\n",
        "                    distance_leader   = abs(c_leader*leader[0,j] - position[i,j]) # distance between leader and current position\n",
        "                    position[i][j] = np.clip( leader[0,j] - a_leader*distance_leader, min_values[j], max_values[j])\n",
        "            elif(p >= 0.5):\n",
        "                distance_leader = abs(leader[0,j] - position[i,j]) # distance between leader and current position\n",
        "                rand = int.from_bytes(os.urandom(8), byteorder = \"big\") / ((1 << 64) - 1)\n",
        "                m_param = (b_linear_component - 1)*rand + 1\n",
        "                position[i][j] = np.clip((distance_leader*math.exp(spiral_param*m_param)*math.cos(m_param*2*math.pi)+leader[0,j]), min_values[j], max_values[j])\n",
        "        position[i][-1] = target_function(position[i][:len(min_values)])\n",
        "    return position\n",
        "\n",
        "    \n",
        "\n",
        "def whale_optimization_algorithm(hunting_party = 10, spiral_param = 1,  min_values = [-5,-5], max_values = [5,5], iterations = 50,step = 50, target_function = target_function):\n",
        "    count    = 0\n",
        "    hist     = []\n",
        "    leader_plot = []\n",
        "    positions = whale_initial_position(hunting_party=hunting_party, min_values=min_values, max_values=max_values, target_function=target_function)\n",
        "    leader = whale_leader_position(dimension=len(min_values), target_function=target_function)\n",
        "    while(count<iterations):\n",
        "        # print(\"Iteration\",count,\"f(x) =\",leader[0,-1])\n",
        "        #append leaders x,y position to plot\n",
        "        leader_plot.append(list(leader[0,:len(min_values)]))\n",
        "        plt.show()\n",
        "        hist.append(leader[0,-1])\n",
        "        a_linear_component = 2 - count*(2/iterations) # linear component of a\n",
        "        b_linear_component = -1 + count*(-1/iterations) # linear component of b\n",
        "        leader = whale_update_leader(positions, leader)\n",
        "        positions = whale_update_position(positions, leader, a_linear_component=a_linear_component,b_linear_component=b_linear_component,spiral_param=spiral_param,min_values=min_values,max_values=max_values,target_function=target_function)\n",
        "        count += 1\n",
        "    return leader, hist, leader_plot\n",
        "    "
      ]
    },
    {
      "cell_type": "markdown",
      "metadata": {},
      "source": [
        "## FireFly Algorithm"
      ]
    },
    {
      "cell_type": "code",
      "execution_count": 32,
      "metadata": {},
      "outputs": [],
      "source": [
        "def initial_fireflies(swarm_size = 3, min_values = [-5,-5], max_values = [5,5], target_function = target_function):\n",
        "    position = np.zeros((swarm_size,len(min_values)+1))\n",
        "    for i in range(swarm_size):\n",
        "        for j in range(len(min_values)):\n",
        "            position[i][j] = random.uniform(min_values[j],max_values[j])\n",
        "        position[i][len(min_values)] = target_function(position[i][:len(min_values)])\n",
        "    return position\n",
        "\n",
        "def euclidean_distence(x,y):\n",
        "    return np.sqrt(np.sum((x-y)**2))\n",
        "\n",
        "def light_value(light_0,x,y,gama=1):\n",
        "    rij = euclidean_distence(x,y)\n",
        "    light = light_0*math.exp(-gama*(rij)**2)\n",
        "    return light\n",
        "\n",
        "def beta_value(x,y,gama=1,beta_0=1):\n",
        "    rij = euclidean_distence(x,y)\n",
        "    beta = beta_0*math.exp(-gama*(rij)**2)\n",
        "    return beta\n",
        "\n",
        "def firefly_update_position(position,x,y,alpha_0=0.2,beta_0 = 1, gama = 1, firefly = 0, min_values = [-5,-5], max_values = [5,5], target_function = target_function):\n",
        "    for j in range(len(x)):\n",
        "        epson = int.from_bytes(os.urandom(8), byteorder = \"big\") / ((1 << 64) - 1)\n",
        "        position[firefly,j] = np.clip((x[j]+beta_value(x,y,gama=gama,beta_0=beta_0)*(y[j]-x[j])+alpha_0*epson), min_values[j], max_values[j])\n",
        "    position[firefly,-1] = target_function(position[firefly, 0:position.shape[1]-1])\n",
        "    return position\n",
        "\n",
        "def firefly_algorithm(swarm_size = 3,min_values = [-5,-5], max_values = [5,5], generations = 50, alpha_0 = 0.2, beta_0 = 1, gama = 1, target_function = target_function):\n",
        "    count = 0\n",
        "    hist = []\n",
        "    positions = initial_fireflies(target_function=target_function)\n",
        "    while(count<=generations):\n",
        "        # print(\"Generation :\",count,\"f(x) = \",positions[positions[:,-1].argsort()][0,:][-1])\n",
        "        for i in range(swarm_size):\n",
        "            for j in range(swarm_size):\n",
        "                if(i != j):\n",
        "                    firefly_i = np.copy(positions[i,0:len(min_values)])\n",
        "                    firefly_j = np.copy(positions[j,0:len(min_values)])\n",
        "                    light_i = light_value(positions[i,-1],firefly_i,firefly_j,gama)\n",
        "                    light_j = light_value(positions[j,-1],firefly_j,firefly_i,gama)\n",
        "                    if(light_i > light_j):\n",
        "                        positions = firefly_update_position(positions,firefly_i,firefly_j,alpha_0=alpha_0,beta_0=beta_0,gama=gama,firefly=i,min_values=min_values,max_values=max_values,target_function=target_function)\n",
        "\n",
        "        count += 1\n",
        "        best_firefly = np.copy(positions[positions[:,-1].argsort()][0,:])\n",
        "        hist.append(best_firefly[-1])\n",
        "    return best_firefly, hist\n",
        "                    "
      ]
    },
    {
      "cell_type": "code",
      "execution_count": 45,
      "metadata": {},
      "outputs": [
        {
          "name": "stdout",
          "output_type": "stream",
          "text": [
            "Firefly Optimization Algorithm\n",
            "Best Position : [ 1.9110917   2.7643528  -0.05920978]\n",
            "Best Value : -0.05920977889017375\n"
          ]
        },
        {
          "data": {
            "text/plain": [
              "[<matplotlib.lines.Line2D at 0x20ca2e61090>]"
            ]
          },
          "execution_count": 45,
          "metadata": {},
          "output_type": "execute_result"
        },
        {
          "data": {
            "image/png": "[encoded data removed]",
            "text/plain": [
              "<Figure size 432x288 with 1 Axes>"
            ]
          },
          "metadata": {
            "needs_background": "light"
          },
          "output_type": "display_data"
        }
      ],
      "source": [
        "foa,foahist=firefly_algorithm(target_function=easom)\n",
        "print(\"Firefly Optimization Algorithm\")\n",
        "print(\"Best Position :\",foa)\n",
        "print(\"Best Value :\",foa[-1])\n",
        "plt.plot(foahist)"
      ]
    },
    {
      "cell_type": "code",
      "execution_count": 18,
      "metadata": {},
      "outputs": [
        {
          "name": "stdout",
          "output_type": "stream",
          "text": [
            "WOA: [[2.99923123e+00 4.99986071e-01 8.14709238e-07]]\n"
          ]
        },
        {
          "data": {
            "image/png": "[encoded data removed]",
            "text/plain": [
              "<Figure size 432x288 with 1 Axes>"
            ]
          },
          "metadata": {
            "needs_background": "light"
          },
          "output_type": "display_data"
        }
      ],
      "source": [
        "woa,woahist,woaleader_plot=whale_optimization_algorithm(target_function=beale)\n",
        "print(\"WOA:\",woa)\n",
        "\n",
        "#plot the histogram of the WOA\n",
        "plt.plot(woahist)\n",
        "plt.show()\n",
        "\n",
        "\n",
        "# for i in range(len(woaleader_plot)):\n",
        "#     plt.xlim(-5,5)\n",
        "#     plt.ylim(-5,5)\n",
        "#     plt.scatter(woaleader_plot[i][0],woaleader_plot[i][1],c='r')\n",
        "#     plt.pause(0.5)\n",
        "\n",
        "# plt.show()\n",
        "\n"
      ]
    },
    {
      "cell_type": "markdown",
      "metadata": {},
      "source": [
        "## WhaleFireFly Hybrid Algorithm"
      ]
    },
    {
      "cell_type": "code",
      "execution_count": 4,
      "metadata": {},
      "outputs": [],
      "source": [
        "def hybrid_initital_position(hunting_party=5, min_values=[-5, -5], max_values=[5, 5], target_function=target_function):\n",
        "    positions = np.zeros((hunting_party, len(min_values)+1))\n",
        "    for i in range(hunting_party):\n",
        "        for j in range(len(min_values)):\n",
        "            positions[i][j] = random.uniform(min_values[j], max_values[j])\n",
        "        positions[i][len(min_values)] = target_function(positions[i][:len(min_values)])\n",
        "    return positions\n",
        "\n",
        "def hybrid_whale_leader(dimension=2, target_function=target_function):\n",
        "    leader = np.zeros((1, dimension+1))\n",
        "    for i in range(dimension):\n",
        "        leader[0][i] = random.uniform(-5, 5)\n",
        "    leader[0][dimension] = target_function(leader[0][:dimension])\n",
        "    return leader\n",
        "\n",
        "\n",
        "def hybrid_update_leader(positions, leader):\n",
        "    for i in range(positions.shape[0]):\n",
        "        if (leader[0, -1] > positions[i, -1]):\n",
        "            for j in range(positions.shape[1]):\n",
        "                leader[0, j] = positions[i, j]\n",
        "    return leader\n",
        "\n",
        "def hybrid_update_position(positions, leader, spiral_param=1, a_linear_component=2, b_linear_component=1,alpha_0=0.2, beta_0=1, gama=1, min_values=[-5, -5], max_values=[5, 5], target_function=target_function):\n",
        "    for i in range(positions.shape[0]):\n",
        "        r1_leader = int.from_bytes(os.urandom(8), byteorder=\"big\") / ((1 << 64) - 1)\n",
        "        # uniform random number between 0 and 1\n",
        "        r2_leader = int.from_bytes(os.urandom(8), byteorder=\"big\") / ((1 << 64) - 1)\n",
        "        a_leader = 2*a_linear_component*r1_leader - a_linear_component\n",
        "        c_leader = 2*r2_leader\n",
        "\n",
        "        p = int.from_bytes(os.urandom(8), byteorder=\"big\") / ((1 << 64) - 1)\n",
        "        # Need to continue from here\n",
        "\n",
        "\n",
        "def whalefireflyhybrid(huntingparty=5,spiral_param=1, min_values=[-5, -5], max_values=[5, 5], generations=50, alpha_0=0.2, beta_0=1, gama=1, target_function=target_function):\n",
        "    count = 0\n",
        "    positions = hybrid_initital_position(hunting_party=huntingparty, min_values=min_values, max_values=max_values, target_function=target_function)\n",
        "    leader = hybrid_whale_leader(dimension=len(min_values), target_function=target_function)\n",
        "\n",
        "    while(count<=generations):\n",
        "        a_linear_component = 2 - count*(2/generations)  # linear component of a\n",
        "        b_linear_component = -1 + count * (-1/generations)  # linear component of b\n",
        "        leader = hybrid_update_leader(positions, leader)\n",
        "        \n",
        "\n"
      ]
    }
  ],
  "metadata": {
    "kernelspec": {
      "display_name": "Python 3.10.4 ('env': venv)",
      "language": "python",
      "name": "python3"
    },
    "language_info": {
      "codemirror_mode": {
        "name": "ipython",
        "version": 3
      },
      "file_extension": ".py",
      "mimetype": "text/x-python",
      "name": "python",
      "nbconvert_exporter": "python",
      "pygments_lexer": "ipython3",
      "version": "3.10.4"
    },
    "orig_nbformat": 4,
    "vscode": {
      "interpreter": {
        "hash": "c320835baa010f3cfb2f37fb8211a395d76e463d04b582fd6275ec3d04eeef3b"
      }
    }
  },
  "nbformat": 4,
  "nbformat_minor": 2
}
